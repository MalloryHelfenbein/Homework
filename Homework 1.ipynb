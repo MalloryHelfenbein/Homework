{
 "cells": [
  {
   "cell_type": "code",
   "execution_count": null,
   "metadata": {},
   "outputs": [],
   "source": [
    "# homework1-MalloryHelfenbein\n",
    "# homework1-MalloryHelfenbein\n",
    "# homework1-MalloryHelfenbein\n",
    "\n",
    "\n",
    "# Project 0- completed\n",
    "\n",
    "#Problem 1- completed once other problems are completed \n",
    "\n"
   ]
  },
  {
   "cell_type": "markdown",
   "metadata": {},
   "source": [
    "# Problem 2 part a and b"
   ]
  },
  {
   "cell_type": "code",
   "execution_count": 21,
   "metadata": {},
   "outputs": [
    {
     "name": "stdout",
     "output_type": "stream",
     "text": [
      "3\n",
      "7\n",
      "7789\n",
      "7789\n",
      "7873\n"
     ]
    }
   ],
   "source": [
    "n=10030508582493\n",
    "import math\n",
    "\n",
    "def PrimeFactor(n): \n",
    "    #So this shows the number of times that 2 is a prime factor of the number \"n\" and prints them out\n",
    "    while n % 2 == 0:\n",
    "        print (2),\n",
    "        n = n/2\n",
    "        # Once the while loop is ended, n must be odd at this point so move on to the next division\n",
    "   \n",
    "for i in range(3, int(math.sqrt(n))+1,2):\n",
    "        \n",
    "        while n%i==0:\n",
    "            print (i),\n",
    "            n=n/i\n",
    "    #this will print out every number(i) that goes into number (n) until it is no longer evenly divisible. \n"
   ]
  },
  {
   "cell_type": "markdown",
   "metadata": {},
   "source": [
    "b) This shows that the largest prime factor of 10,030,508,582,493 is 7873"
   ]
  },
  {
   "cell_type": "markdown",
   "metadata": {},
   "source": [
    "# Problem 3"
   ]
  },
  {
   "cell_type": "code",
   "execution_count": 26,
   "metadata": {},
   "outputs": [],
   "source": [
    "def factorial (x):\n",
    "    if x == 0: \n",
    "        ans = 1\n",
    "    else: \n",
    "        ans = 1\n",
    "        for i in range(1,x+1):\n",
    "            ans = ans * i\n",
    "    return ans"
   ]
  },
  {
   "cell_type": "code",
   "execution_count": 27,
   "metadata": {},
   "outputs": [
    {
     "data": {
      "text/plain": [
       "120"
      ]
     },
     "execution_count": 27,
     "metadata": {},
     "output_type": "execute_result"
    }
   ],
   "source": [
    "factorial (5)"
   ]
  },
  {
   "cell_type": "markdown",
   "metadata": {},
   "source": [
    "# Problem 4"
   ]
  },
  {
   "cell_type": "code",
   "execution_count": 31,
   "metadata": {},
   "outputs": [
    {
     "name": "stdout",
     "output_type": "stream",
     "text": [
      "Not Palindrome\n"
     ]
    }
   ],
   "source": [
    "num= #this is where you enter the number\n",
    "reversenum=0\n",
    "while(num>0):\n",
    "    dig=num%10\n",
    "    reversenum=reversenum*10+dig\n",
    "    num=num//10\n",
    "if (num==reversenum):\n",
    "    print (\"Palindrome\")\n",
    "else:\n",
    "    print (\"Not Palindrome\")\n",
    "#I got some of my lines of code from a website called mastering python\n",
    "# Also I am not sure if I did this part right, I was a little confused"
   ]
  },
  {
   "cell_type": "markdown",
   "metadata": {},
   "source": [
    "part A) I am not sure about this one\n",
    "\n",
    "part B) 906609, 913 * 993"
   ]
  }
 ],
 "metadata": {
  "kernelspec": {
   "display_name": "Python 3",
   "language": "python",
   "name": "python3"
  },
  "language_info": {
   "codemirror_mode": {
    "name": "ipython",
    "version": 3
   },
   "file_extension": ".py",
   "mimetype": "text/x-python",
   "name": "python",
   "nbconvert_exporter": "python",
   "pygments_lexer": "ipython3",
   "version": "3.7.6"
  }
 },
 "nbformat": 4,
 "nbformat_minor": 4
}
